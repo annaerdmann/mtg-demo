{
 "cells": [
  {
   "cell_type": "code",
   "execution_count": 1,
   "metadata": {},
   "outputs": [],
   "source": [
    "# Import libraries\n",
    "import eumdac\n",
    "import datetime\n",
    "import shutil\n",
    "import requests\n",
    "import time\n",
    "\n",
    "# Insert your personal key and secret into the single quotes\n",
    "consumer_key = 'consumer_key'\n",
    "consumer_secret = 'secret_key'\n",
    "\n",
    "# Feed the token object with your credentials, find yours at https://api.eumetsat.int/api-key/\n",
    "credentials = (consumer_key, consumer_secret)\n",
    "token = eumdac.AccessToken(credentials)\n",
    "\n",
    "# Create datastore object with with your token\n",
    "datastore = eumdac.DataStore(token)"
   ]
  },
  {
   "cell_type": "code",
   "execution_count": 11,
   "metadata": {},
   "outputs": [
    {
     "name": "stdout",
     "output_type": "stream",
     "text": [
      "MSG3-SEVI-MSG15-0100-NA-20241224124243.041000000Z-NA\n"
     ]
    }
   ],
   "source": [
    "# Select an FCI collection, eg \"FCI Level 1c High Resolution Image Data - MTG - 0 degree\" - \"EO:EUM:DAT:0665\"\n",
    "selected_collection = datastore.get_collection('EO:EUM:DAT:MSG:HRSEVIRI')\n",
    "\n",
    "# Set sensing start and end time\n",
    "start = datetime.datetime(2024, 12, 24, 12, 30)\n",
    "end = datetime.datetime(2024, 12, 24, 12, 45)\n",
    "\n",
    "# Retrieve datasets that match the filter\n",
    "products = selected_collection.search(\n",
    "    dtstart=start,\n",
    "    dtend=end)\n",
    "\n",
    "# Print found products\n",
    "for product in products:\n",
    "        print(product)\n",
    "\n"
   ]
  },
  {
   "cell_type": "code",
   "execution_count": 12,
   "metadata": {},
   "outputs": [
    {
     "name": "stdout",
     "output_type": "stream",
     "text": [
      "Download of product MSG3-SEVI-MSG15-0100-NA-20241224124243.041000000Z-NA finished.\n"
     ]
    }
   ],
   "source": [
    "\n",
    "for product in products:\n",
    "    with product.open() as source_file, open(source_file.name, mode='wb') as destination_file:\n",
    "        shutil.copyfileobj(source_file, destination_file)\n",
    "        print(f'Download of product {product} finished.')"
   ]
  },
  {
   "cell_type": "code",
   "execution_count": 13,
   "metadata": {},
   "outputs": [
    {
     "name": "stdout",
     "output_type": "stream",
     "text": [
      "Extracted files to output\n"
     ]
    }
   ],
   "source": [
    "import zipfile\n",
    "\n",
    "file_path = \"MSG3-SEVI-MSG15-0100-NA-20241224124243.041000000Z-NA.zip\"\n",
    "output_dir = \"output\"  # Directory to extract files\n",
    "\n",
    "with zipfile.ZipFile(file_path, 'r') as zip_ref:\n",
    "    zip_ref.extractall(output_dir)\n",
    "    print(f\"Extracted files to {output_dir}\")"
   ]
  },
  {
   "cell_type": "code",
   "execution_count": 15,
   "metadata": {},
   "outputs": [],
   "source": [
    "from satpy import Scene\n",
    "scn = Scene(filenames=[\"output/MSG3-SEVI-MSG15-0100-NA-20241224124243.041000000Z-NA.nat\"], reader='seviri_l1b_native')\n",
    "scn.load(['natural_color'], upper_right_corner='NE')\n",
    "scn.save_datasets()"
   ]
  }
 ],
 "metadata": {
  "kernelspec": {
   "display_name": "Python 3.11.5 64-bit",
   "language": "python",
   "name": "python3"
  },
  "language_info": {
   "codemirror_mode": {
    "name": "ipython",
    "version": 3
   },
   "file_extension": ".py",
   "mimetype": "text/x-python",
   "name": "python",
   "nbconvert_exporter": "python",
   "pygments_lexer": "ipython3",
   "version": "3.11.5"
  },
  "orig_nbformat": 4,
  "vscode": {
   "interpreter": {
    "hash": "69a843eb2806097c81d46a99bb39f1f0d8214ba0939f50116f16a105a7e284d3"
   }
  }
 },
 "nbformat": 4,
 "nbformat_minor": 2
}
